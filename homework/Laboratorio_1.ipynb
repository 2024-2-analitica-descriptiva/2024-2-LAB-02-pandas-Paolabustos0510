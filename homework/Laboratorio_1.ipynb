{
 "cells": [
  {
   "cell_type": "markdown",
   "metadata": {},
   "source": [
    "Importar Librerías"
   ]
  },
  {
   "cell_type": "code",
   "execution_count": 1,
   "metadata": {},
   "outputs": [],
   "source": [
    "import pandas as pd\n"
   ]
  },
  {
   "cell_type": "markdown",
   "metadata": {},
   "source": [
    "## Pregunta 01: Cargar Archivo y Cantidad de Filas"
   ]
  },
  {
   "cell_type": "code",
   "execution_count": 2,
   "metadata": {},
   "outputs": [],
   "source": [
    "#¿Cuál es la cantidad de filas en la tabla `tbl0.tsv`?"
   ]
  },
  {
   "cell_type": "code",
   "execution_count": 3,
   "metadata": {},
   "outputs": [
    {
     "name": "stdout",
     "output_type": "stream",
     "text": [
      "Datos Archivo tbl_0\n"
     ]
    },
    {
     "data": {
      "text/html": [
       "<div>\n",
       "<style scoped>\n",
       "    .dataframe tbody tr th:only-of-type {\n",
       "        vertical-align: middle;\n",
       "    }\n",
       "\n",
       "    .dataframe tbody tr th {\n",
       "        vertical-align: top;\n",
       "    }\n",
       "\n",
       "    .dataframe thead th {\n",
       "        text-align: right;\n",
       "    }\n",
       "</style>\n",
       "<table border=\"1\" class=\"dataframe\">\n",
       "  <thead>\n",
       "    <tr style=\"text-align: right;\">\n",
       "      <th></th>\n",
       "      <th>c0</th>\n",
       "      <th>c1</th>\n",
       "      <th>c2</th>\n",
       "      <th>c3</th>\n",
       "    </tr>\n",
       "  </thead>\n",
       "  <tbody>\n",
       "    <tr>\n",
       "      <th>0</th>\n",
       "      <td>0</td>\n",
       "      <td>E</td>\n",
       "      <td>1</td>\n",
       "      <td>1999-02-28</td>\n",
       "    </tr>\n",
       "    <tr>\n",
       "      <th>1</th>\n",
       "      <td>1</td>\n",
       "      <td>A</td>\n",
       "      <td>2</td>\n",
       "      <td>1999-10-28</td>\n",
       "    </tr>\n",
       "    <tr>\n",
       "      <th>2</th>\n",
       "      <td>2</td>\n",
       "      <td>B</td>\n",
       "      <td>5</td>\n",
       "      <td>1998-05-02</td>\n",
       "    </tr>\n",
       "    <tr>\n",
       "      <th>3</th>\n",
       "      <td>3</td>\n",
       "      <td>A</td>\n",
       "      <td>3</td>\n",
       "      <td>1999-08-28</td>\n",
       "    </tr>\n",
       "    <tr>\n",
       "      <th>4</th>\n",
       "      <td>4</td>\n",
       "      <td>C</td>\n",
       "      <td>6</td>\n",
       "      <td>1999-12-01</td>\n",
       "    </tr>\n",
       "    <tr>\n",
       "      <th>5</th>\n",
       "      <td>5</td>\n",
       "      <td>A</td>\n",
       "      <td>7</td>\n",
       "      <td>1998-07-28</td>\n",
       "    </tr>\n",
       "    <tr>\n",
       "      <th>6</th>\n",
       "      <td>6</td>\n",
       "      <td>A</td>\n",
       "      <td>9</td>\n",
       "      <td>1997-02-28</td>\n",
       "    </tr>\n",
       "    <tr>\n",
       "      <th>7</th>\n",
       "      <td>7</td>\n",
       "      <td>B</td>\n",
       "      <td>1</td>\n",
       "      <td>1999-05-10</td>\n",
       "    </tr>\n",
       "    <tr>\n",
       "      <th>8</th>\n",
       "      <td>8</td>\n",
       "      <td>E</td>\n",
       "      <td>2</td>\n",
       "      <td>1997-04-12</td>\n",
       "    </tr>\n",
       "    <tr>\n",
       "      <th>9</th>\n",
       "      <td>9</td>\n",
       "      <td>B</td>\n",
       "      <td>3</td>\n",
       "      <td>1999-11-23</td>\n",
       "    </tr>\n",
       "    <tr>\n",
       "      <th>10</th>\n",
       "      <td>10</td>\n",
       "      <td>C</td>\n",
       "      <td>7</td>\n",
       "      <td>1998-01-17</td>\n",
       "    </tr>\n",
       "    <tr>\n",
       "      <th>11</th>\n",
       "      <td>11</td>\n",
       "      <td>C</td>\n",
       "      <td>5</td>\n",
       "      <td>1998-12-28</td>\n",
       "    </tr>\n",
       "    <tr>\n",
       "      <th>12</th>\n",
       "      <td>12</td>\n",
       "      <td>D</td>\n",
       "      <td>3</td>\n",
       "      <td>1999-10-15</td>\n",
       "    </tr>\n",
       "    <tr>\n",
       "      <th>13</th>\n",
       "      <td>13</td>\n",
       "      <td>E</td>\n",
       "      <td>8</td>\n",
       "      <td>1998-11-01</td>\n",
       "    </tr>\n",
       "    <tr>\n",
       "      <th>14</th>\n",
       "      <td>14</td>\n",
       "      <td>B</td>\n",
       "      <td>9</td>\n",
       "      <td>1999-08-12</td>\n",
       "    </tr>\n",
       "    <tr>\n",
       "      <th>15</th>\n",
       "      <td>15</td>\n",
       "      <td>D</td>\n",
       "      <td>1</td>\n",
       "      <td>1997-12-01</td>\n",
       "    </tr>\n",
       "    <tr>\n",
       "      <th>16</th>\n",
       "      <td>16</td>\n",
       "      <td>E</td>\n",
       "      <td>3</td>\n",
       "      <td>1997-07-28</td>\n",
       "    </tr>\n",
       "    <tr>\n",
       "      <th>17</th>\n",
       "      <td>17</td>\n",
       "      <td>D</td>\n",
       "      <td>5</td>\n",
       "      <td>1998-08-12</td>\n",
       "    </tr>\n",
       "    <tr>\n",
       "      <th>18</th>\n",
       "      <td>18</td>\n",
       "      <td>E</td>\n",
       "      <td>8</td>\n",
       "      <td>1999-08-24</td>\n",
       "    </tr>\n",
       "    <tr>\n",
       "      <th>19</th>\n",
       "      <td>19</td>\n",
       "      <td>E</td>\n",
       "      <td>9</td>\n",
       "      <td>1998-01-23</td>\n",
       "    </tr>\n",
       "    <tr>\n",
       "      <th>20</th>\n",
       "      <td>20</td>\n",
       "      <td>E</td>\n",
       "      <td>7</td>\n",
       "      <td>1999-06-22</td>\n",
       "    </tr>\n",
       "    <tr>\n",
       "      <th>21</th>\n",
       "      <td>21</td>\n",
       "      <td>E</td>\n",
       "      <td>3</td>\n",
       "      <td>1999-04-24</td>\n",
       "    </tr>\n",
       "    <tr>\n",
       "      <th>22</th>\n",
       "      <td>22</td>\n",
       "      <td>D</td>\n",
       "      <td>5</td>\n",
       "      <td>1999-06-25</td>\n",
       "    </tr>\n",
       "    <tr>\n",
       "      <th>23</th>\n",
       "      <td>23</td>\n",
       "      <td>A</td>\n",
       "      <td>1</td>\n",
       "      <td>1999-08-25</td>\n",
       "    </tr>\n",
       "    <tr>\n",
       "      <th>24</th>\n",
       "      <td>24</td>\n",
       "      <td>E</td>\n",
       "      <td>4</td>\n",
       "      <td>1997-07-26</td>\n",
       "    </tr>\n",
       "    <tr>\n",
       "      <th>25</th>\n",
       "      <td>25</td>\n",
       "      <td>E</td>\n",
       "      <td>6</td>\n",
       "      <td>1997-09-24</td>\n",
       "    </tr>\n",
       "    <tr>\n",
       "      <th>26</th>\n",
       "      <td>26</td>\n",
       "      <td>A</td>\n",
       "      <td>8</td>\n",
       "      <td>1997-09-28</td>\n",
       "    </tr>\n",
       "    <tr>\n",
       "      <th>27</th>\n",
       "      <td>27</td>\n",
       "      <td>E</td>\n",
       "      <td>5</td>\n",
       "      <td>1999-06-22</td>\n",
       "    </tr>\n",
       "    <tr>\n",
       "      <th>28</th>\n",
       "      <td>28</td>\n",
       "      <td>A</td>\n",
       "      <td>6</td>\n",
       "      <td>1999-07-29</td>\n",
       "    </tr>\n",
       "    <tr>\n",
       "      <th>29</th>\n",
       "      <td>29</td>\n",
       "      <td>C</td>\n",
       "      <td>0</td>\n",
       "      <td>1999-08-22</td>\n",
       "    </tr>\n",
       "    <tr>\n",
       "      <th>30</th>\n",
       "      <td>30</td>\n",
       "      <td>A</td>\n",
       "      <td>1</td>\n",
       "      <td>1998-04-26</td>\n",
       "    </tr>\n",
       "    <tr>\n",
       "      <th>31</th>\n",
       "      <td>31</td>\n",
       "      <td>D</td>\n",
       "      <td>2</td>\n",
       "      <td>1998-02-24</td>\n",
       "    </tr>\n",
       "    <tr>\n",
       "      <th>32</th>\n",
       "      <td>32</td>\n",
       "      <td>E</td>\n",
       "      <td>5</td>\n",
       "      <td>1999-03-24</td>\n",
       "    </tr>\n",
       "    <tr>\n",
       "      <th>33</th>\n",
       "      <td>33</td>\n",
       "      <td>B</td>\n",
       "      <td>4</td>\n",
       "      <td>1998-03-23</td>\n",
       "    </tr>\n",
       "    <tr>\n",
       "      <th>34</th>\n",
       "      <td>34</td>\n",
       "      <td>B</td>\n",
       "      <td>6</td>\n",
       "      <td>1999-04-21</td>\n",
       "    </tr>\n",
       "    <tr>\n",
       "      <th>35</th>\n",
       "      <td>35</td>\n",
       "      <td>D</td>\n",
       "      <td>7</td>\n",
       "      <td>1999-02-29</td>\n",
       "    </tr>\n",
       "    <tr>\n",
       "      <th>36</th>\n",
       "      <td>36</td>\n",
       "      <td>B</td>\n",
       "      <td>8</td>\n",
       "      <td>1997-05-21</td>\n",
       "    </tr>\n",
       "    <tr>\n",
       "      <th>37</th>\n",
       "      <td>37</td>\n",
       "      <td>C</td>\n",
       "      <td>9</td>\n",
       "      <td>1997-07-22</td>\n",
       "    </tr>\n",
       "    <tr>\n",
       "      <th>38</th>\n",
       "      <td>38</td>\n",
       "      <td>E</td>\n",
       "      <td>1</td>\n",
       "      <td>1999-09-28</td>\n",
       "    </tr>\n",
       "    <tr>\n",
       "      <th>39</th>\n",
       "      <td>39</td>\n",
       "      <td>E</td>\n",
       "      <td>5</td>\n",
       "      <td>1998-01-26</td>\n",
       "    </tr>\n",
       "  </tbody>\n",
       "</table>\n",
       "</div>"
      ],
      "text/plain": [
       "    c0 c1  c2          c3\n",
       "0    0  E   1  1999-02-28\n",
       "1    1  A   2  1999-10-28\n",
       "2    2  B   5  1998-05-02\n",
       "3    3  A   3  1999-08-28\n",
       "4    4  C   6  1999-12-01\n",
       "5    5  A   7  1998-07-28\n",
       "6    6  A   9  1997-02-28\n",
       "7    7  B   1  1999-05-10\n",
       "8    8  E   2  1997-04-12\n",
       "9    9  B   3  1999-11-23\n",
       "10  10  C   7  1998-01-17\n",
       "11  11  C   5  1998-12-28\n",
       "12  12  D   3  1999-10-15\n",
       "13  13  E   8  1998-11-01\n",
       "14  14  B   9  1999-08-12\n",
       "15  15  D   1  1997-12-01\n",
       "16  16  E   3  1997-07-28\n",
       "17  17  D   5  1998-08-12\n",
       "18  18  E   8  1999-08-24\n",
       "19  19  E   9  1998-01-23\n",
       "20  20  E   7  1999-06-22\n",
       "21  21  E   3  1999-04-24\n",
       "22  22  D   5  1999-06-25\n",
       "23  23  A   1  1999-08-25\n",
       "24  24  E   4  1997-07-26\n",
       "25  25  E   6  1997-09-24\n",
       "26  26  A   8  1997-09-28\n",
       "27  27  E   5  1999-06-22\n",
       "28  28  A   6  1999-07-29\n",
       "29  29  C   0  1999-08-22\n",
       "30  30  A   1  1998-04-26\n",
       "31  31  D   2  1998-02-24\n",
       "32  32  E   5  1999-03-24\n",
       "33  33  B   4  1998-03-23\n",
       "34  34  B   6  1999-04-21\n",
       "35  35  D   7  1999-02-29\n",
       "36  36  B   8  1997-05-21\n",
       "37  37  C   9  1997-07-22\n",
       "38  38  E   1  1999-09-28\n",
       "39  39  E   5  1998-01-26"
      ]
     },
     "metadata": {},
     "output_type": "display_data"
    },
    {
     "name": "stdout",
     "output_type": "stream",
     "text": [
      "Datos Archivo tbl_1\n"
     ]
    },
    {
     "data": {
      "text/html": [
       "<div>\n",
       "<style scoped>\n",
       "    .dataframe tbody tr th:only-of-type {\n",
       "        vertical-align: middle;\n",
       "    }\n",
       "\n",
       "    .dataframe tbody tr th {\n",
       "        vertical-align: top;\n",
       "    }\n",
       "\n",
       "    .dataframe thead th {\n",
       "        text-align: right;\n",
       "    }\n",
       "</style>\n",
       "<table border=\"1\" class=\"dataframe\">\n",
       "  <thead>\n",
       "    <tr style=\"text-align: right;\">\n",
       "      <th></th>\n",
       "      <th>c0</th>\n",
       "      <th>c4</th>\n",
       "    </tr>\n",
       "  </thead>\n",
       "  <tbody>\n",
       "    <tr>\n",
       "      <th>0</th>\n",
       "      <td>0</td>\n",
       "      <td>b</td>\n",
       "    </tr>\n",
       "    <tr>\n",
       "      <th>1</th>\n",
       "      <td>0</td>\n",
       "      <td>g</td>\n",
       "    </tr>\n",
       "    <tr>\n",
       "      <th>2</th>\n",
       "      <td>0</td>\n",
       "      <td>f</td>\n",
       "    </tr>\n",
       "    <tr>\n",
       "      <th>3</th>\n",
       "      <td>1</td>\n",
       "      <td>a</td>\n",
       "    </tr>\n",
       "    <tr>\n",
       "      <th>4</th>\n",
       "      <td>1</td>\n",
       "      <td>f</td>\n",
       "    </tr>\n",
       "    <tr>\n",
       "      <th>...</th>\n",
       "      <td>...</td>\n",
       "      <td>...</td>\n",
       "    </tr>\n",
       "    <tr>\n",
       "      <th>108</th>\n",
       "      <td>38</td>\n",
       "      <td>e</td>\n",
       "    </tr>\n",
       "    <tr>\n",
       "      <th>109</th>\n",
       "      <td>38</td>\n",
       "      <td>d</td>\n",
       "    </tr>\n",
       "    <tr>\n",
       "      <th>110</th>\n",
       "      <td>39</td>\n",
       "      <td>f</td>\n",
       "    </tr>\n",
       "    <tr>\n",
       "      <th>111</th>\n",
       "      <td>39</td>\n",
       "      <td>a</td>\n",
       "    </tr>\n",
       "    <tr>\n",
       "      <th>112</th>\n",
       "      <td>39</td>\n",
       "      <td>d</td>\n",
       "    </tr>\n",
       "  </tbody>\n",
       "</table>\n",
       "<p>113 rows × 2 columns</p>\n",
       "</div>"
      ],
      "text/plain": [
       "     c0 c4\n",
       "0     0  b\n",
       "1     0  g\n",
       "2     0  f\n",
       "3     1  a\n",
       "4     1  f\n",
       "..   .. ..\n",
       "108  38  e\n",
       "109  38  d\n",
       "110  39  f\n",
       "111  39  a\n",
       "112  39  d\n",
       "\n",
       "[113 rows x 2 columns]"
      ]
     },
     "metadata": {},
     "output_type": "display_data"
    },
    {
     "name": "stdout",
     "output_type": "stream",
     "text": [
      "Datos Archivo tbl_2\n"
     ]
    },
    {
     "data": {
      "text/html": [
       "<div>\n",
       "<style scoped>\n",
       "    .dataframe tbody tr th:only-of-type {\n",
       "        vertical-align: middle;\n",
       "    }\n",
       "\n",
       "    .dataframe tbody tr th {\n",
       "        vertical-align: top;\n",
       "    }\n",
       "\n",
       "    .dataframe thead th {\n",
       "        text-align: right;\n",
       "    }\n",
       "</style>\n",
       "<table border=\"1\" class=\"dataframe\">\n",
       "  <thead>\n",
       "    <tr style=\"text-align: right;\">\n",
       "      <th></th>\n",
       "      <th>c0</th>\n",
       "      <th>c5a</th>\n",
       "      <th>c5b</th>\n",
       "    </tr>\n",
       "  </thead>\n",
       "  <tbody>\n",
       "    <tr>\n",
       "      <th>0</th>\n",
       "      <td>0</td>\n",
       "      <td>jjj</td>\n",
       "      <td>3</td>\n",
       "    </tr>\n",
       "    <tr>\n",
       "      <th>1</th>\n",
       "      <td>0</td>\n",
       "      <td>bbb</td>\n",
       "      <td>0</td>\n",
       "    </tr>\n",
       "    <tr>\n",
       "      <th>2</th>\n",
       "      <td>0</td>\n",
       "      <td>ddd</td>\n",
       "      <td>9</td>\n",
       "    </tr>\n",
       "    <tr>\n",
       "      <th>3</th>\n",
       "      <td>0</td>\n",
       "      <td>ggg</td>\n",
       "      <td>8</td>\n",
       "    </tr>\n",
       "    <tr>\n",
       "      <th>4</th>\n",
       "      <td>0</td>\n",
       "      <td>hhh</td>\n",
       "      <td>2</td>\n",
       "    </tr>\n",
       "    <tr>\n",
       "      <th>...</th>\n",
       "      <td>...</td>\n",
       "      <td>...</td>\n",
       "      <td>...</td>\n",
       "    </tr>\n",
       "    <tr>\n",
       "      <th>170</th>\n",
       "      <td>38</td>\n",
       "      <td>iii</td>\n",
       "      <td>2</td>\n",
       "    </tr>\n",
       "    <tr>\n",
       "      <th>171</th>\n",
       "      <td>38</td>\n",
       "      <td>eee</td>\n",
       "      <td>0</td>\n",
       "    </tr>\n",
       "    <tr>\n",
       "      <th>172</th>\n",
       "      <td>39</td>\n",
       "      <td>hhh</td>\n",
       "      <td>8</td>\n",
       "    </tr>\n",
       "    <tr>\n",
       "      <th>173</th>\n",
       "      <td>39</td>\n",
       "      <td>ggg</td>\n",
       "      <td>3</td>\n",
       "    </tr>\n",
       "    <tr>\n",
       "      <th>174</th>\n",
       "      <td>39</td>\n",
       "      <td>jjj</td>\n",
       "      <td>5</td>\n",
       "    </tr>\n",
       "  </tbody>\n",
       "</table>\n",
       "<p>175 rows × 3 columns</p>\n",
       "</div>"
      ],
      "text/plain": [
       "     c0  c5a  c5b\n",
       "0     0  jjj    3\n",
       "1     0  bbb    0\n",
       "2     0  ddd    9\n",
       "3     0  ggg    8\n",
       "4     0  hhh    2\n",
       "..   ..  ...  ...\n",
       "170  38  iii    2\n",
       "171  38  eee    0\n",
       "172  39  hhh    8\n",
       "173  39  ggg    3\n",
       "174  39  jjj    5\n",
       "\n",
       "[175 rows x 3 columns]"
      ]
     },
     "metadata": {},
     "output_type": "display_data"
    }
   ],
   "source": [
    "def cargar_BD (nombre_archivos):\n",
    "    datos = pd.read_csv(nombre_archivos, sep=\"\\t\")\n",
    "    return datos\n",
    "\n",
    "tbl_0 = cargar_BD(\"../files/input/tbl0.tsv\")\n",
    "tbl_1 = cargar_BD(\"../files/input/tbl1.tsv\")\n",
    "tbl_2 = cargar_BD(\"../files/input/tbl2.tsv\")\n",
    "\n",
    "print(\"Datos Archivo tbl_0\")\n",
    "display(tbl_0)\n",
    "\n",
    "print(\"Datos Archivo tbl_1\")\n",
    "display(tbl_1)\n",
    "\n",
    "print(\"Datos Archivo tbl_2\")\n",
    "display(tbl_2)\n"
   ]
  },
  {
   "cell_type": "code",
   "execution_count": 4,
   "metadata": {},
   "outputs": [
    {
     "name": "stdout",
     "output_type": "stream",
     "text": [
      "40\n"
     ]
    }
   ],
   "source": [
    "import pandas as pd\n",
    "import os\n",
    "#data = os.path.join(os.path.dirname(__file__), \"../files/input/tbl0.tsv\")\n",
    "data = r\"C:\\Users\\Olga\\Documents\\GitHub\\2024-2-LAB-02-pandas-Paolabustos0510\\files\\input\\tbl0.tsv\"\n",
    "tbl_0 =pd.read_csv(data, sep=\"\\t\")\n",
    "\n",
    "def pregunta_01():\n",
    "    cantidad_filas_tbl_0 = tbl_0.shape[0]\n",
    "    return (cantidad_filas_tbl_0)\n",
    "print(pregunta_01())\n"
   ]
  },
  {
   "cell_type": "code",
   "execution_count": 5,
   "metadata": {},
   "outputs": [
    {
     "name": "stdout",
     "output_type": "stream",
     "text": [
      "40\n"
     ]
    }
   ],
   "source": [
    "def pregunta_01(tbl_0):\n",
    "    cantidad_filas_tbl_0 = tbl_0.shape[0]\n",
    "    return (cantidad_filas_tbl_0)\n",
    "resultado = pregunta_01(tbl_0)\n",
    "print(resultado)"
   ]
  },
  {
   "cell_type": "markdown",
   "metadata": {},
   "source": [
    "## Pregunta 02: Cantidad Columnas"
   ]
  },
  {
   "cell_type": "code",
   "execution_count": 6,
   "metadata": {},
   "outputs": [],
   "source": [
    "#¿Cuál es la cantidad de columnas en la tabla `tbl0.tsv`?"
   ]
  },
  {
   "cell_type": "code",
   "execution_count": 7,
   "metadata": {},
   "outputs": [
    {
     "name": "stdout",
     "output_type": "stream",
     "text": [
      "4\n"
     ]
    }
   ],
   "source": [
    "def pregunta_02(tbl_0):\n",
    "    cantidad_columnas_tbl_0 = tbl_0.shape[1]\n",
    "    return (cantidad_columnas_tbl_0)\n",
    "resultado = pregunta_02(tbl_0)\n",
    "print(resultado)"
   ]
  },
  {
   "cell_type": "markdown",
   "metadata": {},
   "source": [
    "## Pregunta 03"
   ]
  },
  {
   "cell_type": "code",
   "execution_count": 8,
   "metadata": {},
   "outputs": [],
   "source": [
    "#¿Cuál es la cantidad de registros por cada letra de la columna `c1` del\n",
    "#archivo `tbl0.tsv`?.\n"
   ]
  },
  {
   "cell_type": "code",
   "execution_count": 9,
   "metadata": {},
   "outputs": [
    {
     "name": "stdout",
     "output_type": "stream",
     "text": [
      "c1\n",
      "A     8\n",
      "B     7\n",
      "C     5\n",
      "D     6\n",
      "E    14\n",
      "Name: count, dtype: int64\n"
     ]
    }
   ],
   "source": [
    "def pregunta_03(tbl_0):\n",
    "    cantidad_registros_letra = ((tbl_0['c1'].value_counts().sort_index()))\n",
    "    return (cantidad_registros_letra)\n",
    "resultado = pregunta_03(tbl_0)\n",
    "print(resultado)"
   ]
  },
  {
   "cell_type": "markdown",
   "metadata": {},
   "source": [
    "## Pregunta 04"
   ]
  },
  {
   "cell_type": "code",
   "execution_count": 10,
   "metadata": {},
   "outputs": [],
   "source": [
    "#Calcule el promedio de `c2` por cada letra de la `c1` del archivo\n",
    "#`tbl0.tsv`.\n"
   ]
  },
  {
   "cell_type": "code",
   "execution_count": 11,
   "metadata": {},
   "outputs": [
    {
     "name": "stdout",
     "output_type": "stream",
     "text": [
      "c1\n",
      "A    4.625000\n",
      "B    5.142857\n",
      "C    5.400000\n",
      "D    3.833333\n",
      "E    4.785714\n",
      "Name: c2, dtype: float64\n"
     ]
    }
   ],
   "source": [
    "def pregunta_04(tbl_0):\n",
    "    promedio_c2 = tbl_0.groupby('c1')['c2'].mean()\n",
    "    return (promedio_c2)\n",
    "resultado = pregunta_04(tbl_0)\n",
    "print(resultado)"
   ]
  },
  {
   "cell_type": "markdown",
   "metadata": {},
   "source": [
    "## Pregunta 05"
   ]
  },
  {
   "cell_type": "code",
   "execution_count": 12,
   "metadata": {},
   "outputs": [],
   "source": [
    "#Calcule el valor máximo de `c2` por cada letra en la columna `c1` del\n",
    "#archivo `tbl0.tsv`.\n"
   ]
  },
  {
   "cell_type": "code",
   "execution_count": 13,
   "metadata": {},
   "outputs": [
    {
     "name": "stdout",
     "output_type": "stream",
     "text": [
      "c1\n",
      "A    9\n",
      "B    9\n",
      "C    9\n",
      "D    7\n",
      "E    9\n",
      "Name: c2, dtype: int64\n"
     ]
    }
   ],
   "source": [
    "def pregunta_05(tbl_0):\n",
    "   valor_maximo_c2 = tbl_0.groupby('c1')['c2'].max()\n",
    "   return (valor_maximo_c2)\n",
    "resultado = pregunta_05(tbl_0)\n",
    "print(resultado)"
   ]
  },
  {
   "cell_type": "markdown",
   "metadata": {},
   "source": [
    "# Pregunta 06"
   ]
  },
  {
   "cell_type": "code",
   "execution_count": 14,
   "metadata": {},
   "outputs": [],
   "source": [
    "#Retorne una lista con los valores unicos de la columna `c4` del archivo\n",
    "#`tbl1.csv` en mayusculas y ordenados alfabéticamente."
   ]
  },
  {
   "cell_type": "code",
   "execution_count": 15,
   "metadata": {},
   "outputs": [
    {
     "name": "stdout",
     "output_type": "stream",
     "text": [
      "['A', 'B', 'C', 'D', 'E', 'F', 'G']\n"
     ]
    }
   ],
   "source": [
    "def pregunta_06(tbl_1):\n",
    "    valores_unicos = sorted(tbl_1['c4'].unique())\n",
    "    valores_mayusculas = [valor.upper() for valor in valores_unicos]\n",
    "    return (valores_mayusculas)\n",
    "resultado = pregunta_06(tbl_1)\n",
    "print(resultado)"
   ]
  },
  {
   "cell_type": "markdown",
   "metadata": {},
   "source": [
    "## Pregunta 07"
   ]
  },
  {
   "cell_type": "code",
   "execution_count": 16,
   "metadata": {},
   "outputs": [],
   "source": [
    "#Calcule la suma de la `c2` por cada letra de la `c1` del archivo\n",
    "#`tbl0.tsv`."
   ]
  },
  {
   "cell_type": "code",
   "execution_count": 17,
   "metadata": {},
   "outputs": [
    {
     "name": "stdout",
     "output_type": "stream",
     "text": [
      "c1\n",
      "A    37\n",
      "B    36\n",
      "C    27\n",
      "D    23\n",
      "E    67\n",
      "Name: c2, dtype: int64\n"
     ]
    }
   ],
   "source": [
    "def pregunta_07(tbl_0):\n",
    "    suma_c2 = tbl_0.groupby('c1')['c2'].sum()\n",
    "    return (suma_c2)\n",
    "resultado = pregunta_07(tbl_0)\n",
    "print(resultado)"
   ]
  },
  {
   "cell_type": "markdown",
   "metadata": {},
   "source": [
    "# Pregunta 08"
   ]
  },
  {
   "cell_type": "code",
   "execution_count": 18,
   "metadata": {},
   "outputs": [],
   "source": [
    "#Agregue una columna llamada `suma` con la suma de `c0` y `c2` al\n",
    "#data frame que contiene el archivo `tbl0.tsv`.\n"
   ]
  },
  {
   "cell_type": "code",
   "execution_count": 19,
   "metadata": {},
   "outputs": [
    {
     "name": "stdout",
     "output_type": "stream",
     "text": [
      "    c0 c1  c2          c3  suma\n",
      "0    0  E   1  1999-02-28     1\n",
      "1    1  A   2  1999-10-28     3\n",
      "2    2  B   5  1998-05-02     7\n",
      "3    3  A   3  1999-08-28     6\n",
      "4    4  C   6  1999-12-01    10\n",
      "5    5  A   7  1998-07-28    12\n",
      "6    6  A   9  1997-02-28    15\n",
      "7    7  B   1  1999-05-10     8\n",
      "8    8  E   2  1997-04-12    10\n",
      "9    9  B   3  1999-11-23    12\n",
      "10  10  C   7  1998-01-17    17\n",
      "11  11  C   5  1998-12-28    16\n",
      "12  12  D   3  1999-10-15    15\n",
      "13  13  E   8  1998-11-01    21\n",
      "14  14  B   9  1999-08-12    23\n",
      "15  15  D   1  1997-12-01    16\n",
      "16  16  E   3  1997-07-28    19\n",
      "17  17  D   5  1998-08-12    22\n",
      "18  18  E   8  1999-08-24    26\n",
      "19  19  E   9  1998-01-23    28\n",
      "20  20  E   7  1999-06-22    27\n",
      "21  21  E   3  1999-04-24    24\n",
      "22  22  D   5  1999-06-25    27\n",
      "23  23  A   1  1999-08-25    24\n",
      "24  24  E   4  1997-07-26    28\n",
      "25  25  E   6  1997-09-24    31\n",
      "26  26  A   8  1997-09-28    34\n",
      "27  27  E   5  1999-06-22    32\n",
      "28  28  A   6  1999-07-29    34\n",
      "29  29  C   0  1999-08-22    29\n",
      "30  30  A   1  1998-04-26    31\n",
      "31  31  D   2  1998-02-24    33\n",
      "32  32  E   5  1999-03-24    37\n",
      "33  33  B   4  1998-03-23    37\n",
      "34  34  B   6  1999-04-21    40\n",
      "35  35  D   7  1999-02-29    42\n",
      "36  36  B   8  1997-05-21    44\n",
      "37  37  C   9  1997-07-22    46\n",
      "38  38  E   1  1999-09-28    39\n",
      "39  39  E   5  1998-01-26    44\n"
     ]
    }
   ],
   "source": [
    "def pregunta_08(tbl_0):\n",
    "   tbl_0['suma'] = tbl_0['c0'] + tbl_0['c2']\n",
    "   return (tbl_0)\n",
    "resultado = pregunta_08(tbl_0)\n",
    "print(resultado)"
   ]
  },
  {
   "cell_type": "markdown",
   "metadata": {},
   "source": [
    "# Pregunta 09"
   ]
  },
  {
   "cell_type": "code",
   "execution_count": 20,
   "metadata": {},
   "outputs": [],
   "source": [
    "#Agregue el año como una columna al dataframe que contiene el archivo\n",
    "#`tbl0.tsv`..\n"
   ]
  },
  {
   "cell_type": "code",
   "execution_count": 21,
   "metadata": {},
   "outputs": [
    {
     "name": "stdout",
     "output_type": "stream",
     "text": [
      "    c0 c1  c2          c3  suma  year\n",
      "0    0  E   1  1999-02-28     1  1999\n",
      "1    1  A   2  1999-10-28     3  1999\n",
      "2    2  B   5  1998-05-02     7  1998\n",
      "3    3  A   3  1999-08-28     6  1999\n",
      "4    4  C   6  1999-12-01    10  1999\n",
      "5    5  A   7  1998-07-28    12  1998\n",
      "6    6  A   9  1997-02-28    15  1997\n",
      "7    7  B   1  1999-05-10     8  1999\n",
      "8    8  E   2  1997-04-12    10  1997\n",
      "9    9  B   3  1999-11-23    12  1999\n",
      "10  10  C   7  1998-01-17    17  1998\n",
      "11  11  C   5  1998-12-28    16  1998\n",
      "12  12  D   3  1999-10-15    15  1999\n",
      "13  13  E   8  1998-11-01    21  1998\n",
      "14  14  B   9  1999-08-12    23  1999\n",
      "15  15  D   1  1997-12-01    16  1997\n",
      "16  16  E   3  1997-07-28    19  1997\n",
      "17  17  D   5  1998-08-12    22  1998\n",
      "18  18  E   8  1999-08-24    26  1999\n",
      "19  19  E   9  1998-01-23    28  1998\n",
      "20  20  E   7  1999-06-22    27  1999\n",
      "21  21  E   3  1999-04-24    24  1999\n",
      "22  22  D   5  1999-06-25    27  1999\n",
      "23  23  A   1  1999-08-25    24  1999\n",
      "24  24  E   4  1997-07-26    28  1997\n",
      "25  25  E   6  1997-09-24    31  1997\n",
      "26  26  A   8  1997-09-28    34  1997\n",
      "27  27  E   5  1999-06-22    32  1999\n",
      "28  28  A   6  1999-07-29    34  1999\n",
      "29  29  C   0  1999-08-22    29  1999\n",
      "30  30  A   1  1998-04-26    31  1998\n",
      "31  31  D   2  1998-02-24    33  1998\n",
      "32  32  E   5  1999-03-24    37  1999\n",
      "33  33  B   4  1998-03-23    37  1998\n",
      "34  34  B   6  1999-04-21    40  1999\n",
      "35  35  D   7  1999-02-29    42  1999\n",
      "36  36  B   8  1997-05-21    44  1997\n",
      "37  37  C   9  1997-07-22    46  1997\n",
      "38  38  E   1  1999-09-28    39  1999\n",
      "39  39  E   5  1998-01-26    44  1998\n"
     ]
    }
   ],
   "source": [
    "def pregunta_09(tbl_0):\n",
    "    tbl_0['year'] = tbl_0['c3'].str[:4]\n",
    "    return (tbl_0)\n",
    "resultado = pregunta_09(tbl_0)\n",
    "print(resultado)"
   ]
  },
  {
   "cell_type": "markdown",
   "metadata": {},
   "source": [
    "# Pregunta 10"
   ]
  },
  {
   "cell_type": "code",
   "execution_count": 22,
   "metadata": {},
   "outputs": [],
   "source": [
    "#Construya una tabla que contenga `c1` y una lista separada por ':' de los\n",
    "#valores de la columna `c2` para el archivo `tbl0.tsv`.\n"
   ]
  },
  {
   "cell_type": "code",
   "execution_count": 23,
   "metadata": {},
   "outputs": [
    {
     "name": "stdout",
     "output_type": "stream",
     "text": [
      "  c1                           c2\n",
      "0  A              1:1:2:3:6:7:8:9\n",
      "1  B                1:3:4:5:6:8:9\n",
      "2  C                    0:5:6:7:9\n",
      "3  D                  1:2:3:5:5:7\n",
      "4  E  1:1:2:3:3:4:5:5:5:6:7:8:8:9\n"
     ]
    }
   ],
   "source": [
    "def pregunta_10(tbl_0):\n",
    "    result = tbl_0.groupby('c1')['c2'].apply(lambda x: \":\".join(map(str,sorted(map(int,x))))).reset_index()\n",
    "    return (result)\n",
    "resultado = pregunta_10(tbl_0)\n",
    "print(resultado)"
   ]
  },
  {
   "cell_type": "markdown",
   "metadata": {},
   "source": [
    "# Pregunta 11"
   ]
  },
  {
   "cell_type": "code",
   "execution_count": 24,
   "metadata": {},
   "outputs": [],
   "source": [
    "#Construya una tabla que contenga `c0` y una lista separada por ',' de\n",
    "#los valores de la columna `c4` del archivo `tbl1.tsv`."
   ]
  },
  {
   "cell_type": "code",
   "execution_count": 25,
   "metadata": {},
   "outputs": [
    {
     "name": "stdout",
     "output_type": "stream",
     "text": [
      "    c0       c4\n",
      "0    0    b,f,g\n",
      "1    1    a,c,f\n",
      "2    2  a,c,e,f\n",
      "3    3      a,b\n",
      "4    4  a,d,f,g\n",
      "5    5      c,d\n",
      "6    6    a,d,g\n",
      "7    7      a,b\n",
      "8    8  a,d,e,f\n",
      "9    9  b,d,f,g\n",
      "10  10  b,c,d,f\n",
      "11  11  a,c,d,e\n",
      "12  12  b,e,f,g\n",
      "13  13      c,f\n",
      "14  14      b,d\n",
      "15  15      e,f\n",
      "16  16    b,e,f\n",
      "17  17      a,g\n",
      "18  18  a,c,e,f\n",
      "19  19      a,e\n",
      "20  20      e,f\n",
      "21  21    b,c,g\n",
      "22  22    a,c,f\n",
      "23  23    a,d,f\n",
      "24  24      c,d\n",
      "25  25    c,d,e\n",
      "26  26    a,e,f\n",
      "27  27    a,c,g\n",
      "28  28      e,f\n",
      "29  29  a,c,f,g\n",
      "30  30      b,f\n",
      "31  31      b,f\n",
      "32  32      a,c\n",
      "33  33    b,c,f\n",
      "34  34    a,e,f\n",
      "35  35      a,f\n",
      "36  36      a,c\n",
      "37  37  a,c,e,f\n",
      "38  38      d,e\n",
      "39  39    a,d,f\n"
     ]
    }
   ],
   "source": [
    "def pregunta_11(tbl_1):\n",
    "    tabla = tbl_1.groupby('c0')['c4'].apply(lambda x: \",\".join(sorted(x))).reset_index()\n",
    "    return (tabla)\n",
    "resultado = pregunta_11(tbl_1)\n",
    "print(resultado)"
   ]
  },
  {
   "cell_type": "markdown",
   "metadata": {},
   "source": [
    "# Pregunta 12"
   ]
  },
  {
   "cell_type": "code",
   "execution_count": 26,
   "metadata": {},
   "outputs": [],
   "source": [
    "#Construya una tabla que contenga `c0` y una lista separada por ','\n",
    "#de los valores de la columna `c5a`  y `c5b` (unidos por ':') de la\n",
    "#tabla `tbl2.tsv`.\n"
   ]
  },
  {
   "cell_type": "code",
   "execution_count": 27,
   "metadata": {},
   "outputs": [
    {
     "name": "stdout",
     "output_type": "stream",
     "text": [
      "    c0                                   c5\n",
      "0    0        bbb:0,ddd:9,ggg:8,hhh:2,jjj:3\n",
      "1    1              aaa:3,ccc:2,ddd:0,hhh:9\n",
      "2    2              ccc:6,ddd:2,ggg:5,jjj:1\n",
      "3    3              bbb:1,eee:7,hhh:9,iii:5\n",
      "4    4              ddd:5,eee:4,iii:6,jjj:3\n",
      "5    5        aaa:7,bbb:2,ccc:4,fff:1,hhh:0\n",
      "6    6  aaa:5,ccc:1,ddd:2,fff:8,iii:0,jjj:7\n",
      "7    7                    ddd:2,fff:3,hhh:1\n",
      "8    8  bbb:0,ccc:5,eee:4,fff:7,ggg:6,iii:9\n",
      "9    9  bbb:7,eee:3,fff:5,ggg:2,iii:4,jjj:9\n",
      "10  10        eee:4,fff:2,hhh:6,iii:0,jjj:1\n",
      "11  11                    bbb:7,ggg:9,iii:6\n",
      "12  12        aaa:3,bbb:9,ccc:6,eee:2,fff:4\n",
      "13  13                    aaa:8,ddd:5,jjj:1\n",
      "14  14        aaa:2,ccc:0,ddd:3,fff:7,jjj:6\n",
      "15  15              bbb:9,ccc:0,ddd:3,eee:6\n",
      "16  16  bbb:6,ddd:2,fff:4,ggg:9,hhh:5,iii:3\n",
      "17  17                    ccc:9,hhh:4,jjj:5\n",
      "18  18                    ccc:1,fff:9,iii:6\n",
      "19  19                    aaa:3,bbb:9,fff:1\n",
      "20  20                    aaa:4,ddd:9,iii:2\n",
      "21  21                    ccc:5,fff:8,iii:7\n",
      "22  22                    ddd:7,eee:3,jjj:2\n",
      "23  23        bbb:3,ccc:7,ddd:9,ggg:0,jjj:1\n",
      "24  24  aaa:1,ccc:0,ggg:8,hhh:9,iii:7,jjj:6\n",
      "25  25  bbb:7,ccc:1,ddd:0,eee:6,fff:3,iii:4\n",
      "26  26                    ccc:4,ddd:5,fff:0\n",
      "27  27        ccc:0,ddd:9,ggg:6,hhh:3,jjj:7\n",
      "28  28        ccc:3,eee:5,hhh:6,iii:7,jjj:0\n",
      "29  29  aaa:2,ccc:7,ddd:6,eee:1,fff:4,ggg:0\n",
      "30  30        aaa:9,bbb:3,ccc:6,ddd:0,eee:5\n",
      "31  31  aaa:6,bbb:7,ddd:5,fff:9,hhh:1,iii:4\n",
      "32  32              ccc:1,eee:5,fff:3,ggg:2\n",
      "33  33  ccc:1,ddd:0,ggg:3,hhh:5,iii:7,jjj:8\n",
      "34  34        bbb:8,ccc:3,ddd:7,hhh:6,jjj:0\n",
      "35  35                    aaa:0,ddd:3,fff:5\n",
      "36  36        bbb:4,ccc:0,ddd:5,iii:7,jjj:2\n",
      "37  37                    eee:0,fff:2,hhh:6\n",
      "38  38                    eee:0,fff:9,iii:2\n",
      "39  39                    ggg:3,hhh:8,jjj:5\n"
     ]
    }
   ],
   "source": [
    "def pregunta_12(tbl_2):\n",
    "    tbl_2['c5'] = tbl_2['c5a'] + ':' + tbl_2['c5b'].astype(str).sort_index()\n",
    "    tabla = tbl_2.groupby('c0')['c5'].apply(lambda x: \",\".join(sorted(x))).reset_index()\n",
    "    return ( tabla)\n",
    "resultado = pregunta_12(tbl_2)\n",
    "print(resultado)"
   ]
  },
  {
   "cell_type": "markdown",
   "metadata": {
    "vscode": {
     "languageId": "plaintext"
    }
   },
   "source": [
    "Pregunta 13"
   ]
  },
  {
   "cell_type": "code",
   "execution_count": 28,
   "metadata": {},
   "outputs": [],
   "source": [
    "    #Si la columna `c0` es la clave en los archivos `tbl0.tsv` y `tbl2.tsv`,\n",
    "    #compute la suma de `tbl2.c5b` por cada valor en `tbl0.c1`.\n"
   ]
  },
  {
   "cell_type": "code",
   "execution_count": 29,
   "metadata": {},
   "outputs": [
    {
     "name": "stdout",
     "output_type": "stream",
     "text": [
      "c1\n",
      "A    146\n",
      "B    134\n",
      "C     81\n",
      "D    112\n",
      "E    275\n",
      "Name: c5b, dtype: int64\n"
     ]
    }
   ],
   "source": [
    "def pregunta_13(tbl_0):\n",
    "    merged = tbl_0.merge(tbl_2, on= 'c0')\n",
    "    result = merged.groupby('c1')['c5b'].sum()\n",
    "    return (result)\n",
    "resultado = pregunta_13(tbl_0)\n",
    "print(resultado)"
   ]
  }
 ],
 "metadata": {
  "kernelspec": {
   "display_name": ".venv",
   "language": "python",
   "name": "python3"
  },
  "language_info": {
   "codemirror_mode": {
    "name": "ipython",
    "version": 3
   },
   "file_extension": ".py",
   "mimetype": "text/x-python",
   "name": "python",
   "nbconvert_exporter": "python",
   "pygments_lexer": "ipython3",
   "version": "3.12.3"
  }
 },
 "nbformat": 4,
 "nbformat_minor": 2
}
